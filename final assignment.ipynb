{
 "cells": [
  {
   "cell_type": "markdown",
   "metadata": {},
   "source": [
    "Final Project\n",
    "-------------------------\n",
    "The Battle of Neighborhoods (Week 1)\n",
    "-----------------------\n",
    "Table of Content\n",
    "--------------------------------\n",
    "1. Problem Description\n",
    "2. Data Description\n",
    "------------------------------------\n",
    "1. Problem Description\n",
    "\n",
    "1.1 Background\n",
    "Vienna is the capital and with 1.868 Million inhabitants (UN Report 2017) also the biggest city of Austria. It is not only famous for its role in the history of Europe, or its importance for musicians and artists, but also for its open minded people and their constant interest in different cultures and traditions, which is quite rare and unusual for Austria. Add to this the geographical advantages of Vienna's location, situated in the flat area at the east border of the alps and near the important river Danube, which placed Vienna in an important trade center and offered plenty of room for settlements, it is no surprise that the city prospered and developed outstandingly well over the ages. Attracting settlers and business men from all places around the world to start a new life their. Nowadays, when walking through Vienna, shops and restaurants offering dishes and products from the whole world can be found in Vienna. From American burger restaurants, to Nepalese dishes, Chinese buffets, Indian restaurants, African shops, Turkish bars, Japanese restaurants, Irish pubs, and many more. One of the most frequently seen restaurants are Italian restaurants and \"Pizzerias\". Austrians love Italian food and Italy to make holidays in summer, so they are closely connected to this culture. Ordering a pizza is therefore one of the fastest and easiest things to do. And it seems like there is no more space for a new Italian pizza restaurant anywhere in Vienna. Or is there?\n",
    "\n",
    "1.2 The Client\n",
    "My client, Luigi Margaritese, owner of a succesful low budget pizza restaurant chain in Napoli, contacted me that he thinks about opening a franchise in Vienna, since Pizza prices are extremely high there and he thinks that there might be demand for his product: traditional Italian pizza, fast and handmade, for take and eat away. All business interaction is done with an app, even payment. The client orders the pizza online, pays online and then either picks the pizza up or pays extra for an external delivery service. This saves Luigi costs and allows him to charge relatively low prices while still being able to invest into quality. He wants me now to provide him recommendations of places for his new franchise in Vienna using my data science skills. Since Luigi knows his business, he is well aware that for being successful he needs a place without too much existing competition and also with high potential demand for his product. Finding such a place will be my task now.\n",
    "\n",
    "1.3 Potential Customers\n",
    "Given the product of my employer, it is clear that the main target customers are people well used to using modern technological devices. Therefore the target group will be young to middle-aged persons. Since the pizza prices of my client will be one of the cheapest in the city, it will be also affordable for low income groups like students, which makes places near universities and schools with few existing pizza restaurants or other food preparing services ideal candidate places.\n",
    "\n",
    "2. Data Description\n",
    "Vienna consists of 23 districts. I will download the list of districts from wikipedia and create a dataframe out of it (https://de.wikipedia.org/wiki/Wiener_Gemeindebezirke). As a next step i will assign geographical coordinates to these places using arcgis.\n",
    "\n",
    "Then I will use the Foursquare API to get the geographical location data for Vienna. This will allow me to analyze the locations in Vienna and to hopefully find a great location for Luigi's new pizza restaurant. The procedure will be similar to how it was done in the coursera examples, but of course focusing on the business problem of my employer."
   ]
  },
  {
   "cell_type": "code",
   "execution_count": null,
   "metadata": {},
   "outputs": [],
   "source": []
  }
 ],
 "metadata": {
  "kernelspec": {
   "display_name": "Python 3.6",
   "language": "python",
   "name": "python3"
  },
  "language_info": {
   "codemirror_mode": {
    "name": "ipython",
    "version": 3
   },
   "file_extension": ".py",
   "mimetype": "text/x-python",
   "name": "python",
   "nbconvert_exporter": "python",
   "pygments_lexer": "ipython3",
   "version": "3.6.8"
  }
 },
 "nbformat": 4,
 "nbformat_minor": 1
}
